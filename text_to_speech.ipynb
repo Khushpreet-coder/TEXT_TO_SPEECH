{
 "cells": [
  {
   "cell_type": "code",
   "execution_count": 2,
   "id": "30ae34dd",
   "metadata": {},
   "outputs": [
    {
     "name": "stdout",
     "output_type": "stream",
     "text": [
      "Requirement already satisfied: pyttsx3 in c:\\users\\hh-orbit\\appdata\\local\\programs\\python\\python312\\lib\\site-packages (2.99)\n",
      "Requirement already satisfied: comtypes in c:\\users\\hh-orbit\\appdata\\local\\programs\\python\\python312\\lib\\site-packages (from pyttsx3) (1.4.11)\n",
      "Requirement already satisfied: pypiwin32 in c:\\users\\hh-orbit\\appdata\\local\\programs\\python\\python312\\lib\\site-packages (from pyttsx3) (223)\n",
      "Requirement already satisfied: pywin32 in c:\\users\\hh-orbit\\appdata\\roaming\\python\\python312\\site-packages (from pyttsx3) (310)\n",
      "Note: you may need to restart the kernel to use updated packages.\n"
     ]
    },
    {
     "name": "stderr",
     "output_type": "stream",
     "text": [
      "\n",
      "[notice] A new release of pip is available: 23.2.1 -> 25.1.1\n",
      "[notice] To update, run: python.exe -m pip install --upgrade pip\n"
     ]
    }
   ],
   "source": [
    "%pip install pyttsx3\n"
   ]
  },
  {
   "cell_type": "code",
   "execution_count": 1,
   "id": "00561b4f",
   "metadata": {},
   "outputs": [
    {
     "name": "stdout",
     "output_type": "stream",
     "text": [
      "✅ Done! Audio saved as: c:\\Users\\HH-ORBIT\\Desktop\\PROMPT_ENGINEERING\\TEXT_TO_SPEECH\\tts_output.wav\n"
     ]
    }
   ],
   "source": [
    "# ✅ Install first if not done already\n",
    "# %pip install pyttsx3\n",
    "\n",
    "import pyttsx3\n",
    "import os\n",
    "\n",
    "# ✅ Initialize the engine\n",
    "engine = pyttsx3.init()\n",
    "\n",
    "# ✅ Set speaking speed (words per minute)\n",
    "engine.setProperty('rate', 150)\n",
    "\n",
    "# ✅ Choose a voice (male/female depending on your system)\n",
    "voices = engine.getProperty('voices')\n",
    "engine.setProperty('voice', voices[0].id)  # Try voices[1].id for female voice (may vary)\n",
    "\n",
    "# ✅ Text to convert to speech\n",
    "text = \"This is prompt engineering class.\"\n",
    "\n",
    "# ✅ Output file path (WAV format)\n",
    "output_filename = \"tts_output.wav\"\n",
    "\n",
    "# ✅ Save to file\n",
    "engine.save_to_file(text, output_filename)\n",
    "\n",
    "# ✅ Process and generate the audio\n",
    "engine.runAndWait()\n",
    "\n",
    "print(f\"✅ Done! Audio saved as: {os.path.abspath(output_filename)}\")\n"
   ]
  }
 ],
 "metadata": {
  "kernelspec": {
   "display_name": "Python 3.12 (sounddevice)",
   "language": "python",
   "name": "py312"
  },
  "language_info": {
   "codemirror_mode": {
    "name": "ipython",
    "version": 3
   },
   "file_extension": ".py",
   "mimetype": "text/x-python",
   "name": "python",
   "nbconvert_exporter": "python",
   "pygments_lexer": "ipython3",
   "version": "3.12.0"
  }
 },
 "nbformat": 4,
 "nbformat_minor": 5
}
